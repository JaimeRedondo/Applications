{
  "nbformat": 4,
  "nbformat_minor": 0,
  "metadata": {
    "colab": {
      "name": "Estudio_encuesta.ipynb",
      "provenance": [],
      "collapsed_sections": []
    },
    "kernelspec": {
      "name": "python3",
      "display_name": "Python 3"
    },
    "language_info": {
      "name": "python"
    }
  },
  "cells": [
    {
      "cell_type": "markdown",
      "source": [
        "## Importamos librerías"
      ],
      "metadata": {
        "id": "qRYbQ8KjjffG"
      }
    },
    {
      "cell_type": "code",
      "source": [
        "import pandas as pd\n",
        "import numpy as np\n",
        "import seaborn as sns\n",
        "import matplotlib.pyplot as plt\n",
        "\n",
        "import statsmodels.api as sm\n",
        "from statsmodels.formula.api import ols\n",
        "from scipy import stats"
      ],
      "metadata": {
        "colab": {
          "base_uri": "https://localhost:8080/"
        },
        "id": "eqpbLHBbjjy2",
        "outputId": "51129665-fcd1-4517-9541-7f7f0899d3cf"
      },
      "execution_count": null,
      "outputs": [
        {
          "output_type": "stream",
          "name": "stderr",
          "text": [
            "/usr/local/lib/python3.7/dist-packages/statsmodels/tools/_testing.py:19: FutureWarning: pandas.util.testing is deprecated. Use the functions in the public API at pandas.testing instead.\n",
            "  import pandas.util.testing as tm\n"
          ]
        }
      ]
    },
    {
      "cell_type": "markdown",
      "source": [
        "Vamos a hacer un estudio de la encuesta esta"
      ],
      "metadata": {
        "id": "x1VEtifXi4xT"
      }
    },
    {
      "cell_type": "code",
      "execution_count": null,
      "metadata": {
        "id": "XZbXd7BAi4R9"
      },
      "outputs": [],
      "source": [
        "### cogemos el dataframe (habrá que leerlo de algún sitio), mientras tanto me lo invento\n",
        "lst1 = [\"Jaime\",\"Raquel\",\"Josema\",\"Marta\",\"Laura\",\"Cristina\",\"Gonzalo\",\"Elena\",\"Javi\",\"Dani\",\"Ruben\"]\n",
        "trabajo = [\"Consultor\",\"Consultor\",\"Médico\",\"Bombero\",\"Consultor\",\"Médico\",\"Escritor\",\"Pintor\",\"Médico\",\"Consultor\",\"Consultor\"]\n",
        "lst2_antesde = [\"Muy Desacuerdo\",\"De Acuerdo\",\"Muy de acuerdo\",\"Muy de acuerdo\",\"Muy de acuerdo\",\"Muy de acuerdo\",\"Muy de acuerdo\",\n",
        "                \"Muy en desacuerdo\",\"Muy en desacuerdo\",\"De Acuerdo\",\"De Acuerdo\"]\n",
        "lst2 = [1,4,5,7,7,5,6,2,2,4,4]\n",
        "lst3 = [2,3,4,5,6,7,7,7,5,5,5]\n",
        "lst4 = [2,3,1,2,3,4,4,4,6,6,6]\n",
        "lst5 = [3,2,4,5,7,9,9,9,np.nan,6,6]\n",
        "\n",
        "df = pd.DataFrame(list(zip(lst1,lst2,lst2_antesde,lst3,lst4,lst5,trabajo)), columns = ['Nombre','Variable1','Variable1_str','Variable2','Variable3','Variable4','trabajo'])\n",
        "\n"
      ]
    },
    {
      "cell_type": "markdown",
      "source": [
        "Comprobamos la calidad de los datos"
      ],
      "metadata": {
        "id": "6Db3gvS0m2tN"
      }
    },
    {
      "cell_type": "code",
      "source": [
        "## vemos gráficamente si hay algún nulo\n",
        "\n",
        "sns.heatmap(df.isna(),vmin = 0,vmax = 1)"
      ],
      "metadata": {
        "colab": {
          "base_uri": "https://localhost:8080/",
          "height": 342
        },
        "id": "CUZtP6CSm5Pm",
        "outputId": "bf63118e-64a0-4466-9aab-aa3dfb7b28df"
      },
      "execution_count": null,
      "outputs": [
        {
          "output_type": "execute_result",
          "data": {
            "text/plain": [
              "<matplotlib.axes._subplots.AxesSubplot at 0x7f5440d66ed0>"
            ]
          },
          "metadata": {},
          "execution_count": 26
        },
        {
          "output_type": "display_data",
          "data": {
            "text/plain": [
              "<Figure size 432x288 with 2 Axes>"
            ],
            "image/png": "[encoded data removed]"
          },
          "metadata": {
            "needs_background": "light"
          }
        }
      ]
    },
    {
      "cell_type": "code",
      "source": [
        "## tambien podemos hacer los siguiente:\n",
        "\n",
        "## donde se ve el número de nulos que hay por variable\n",
        "\n",
        "df.isna().sum()"
      ],
      "metadata": {
        "colab": {
          "base_uri": "https://localhost:8080/"
        },
        "id": "C1Wk0liaoPG1",
        "outputId": "a0e1de39-10d2-4311-8bd2-8d5e0f7c207b"
      },
      "execution_count": null,
      "outputs": [
        {
          "output_type": "execute_result",
          "data": {
            "text/plain": [
              "Nombre           0\n",
              "Variable1        0\n",
              "Variable1_str    0\n",
              "Variable2        0\n",
              "Variable3        0\n",
              "Variable4        1\n",
              "trabajo          0\n",
              "dtype: int64"
            ]
          },
          "metadata": {},
          "execution_count": 27
        }
      ]
    },
    {
      "cell_type": "code",
      "source": [
        "df.dtypes"
      ],
      "metadata": {
        "colab": {
          "base_uri": "https://localhost:8080/"
        },
        "id": "36DFp428cd7s",
        "outputId": "04065676-5f08-40de-8cac-e8afcbfad489"
      },
      "execution_count": null,
      "outputs": [
        {
          "output_type": "execute_result",
          "data": {
            "text/plain": [
              "Nombre            object\n",
              "Variable1          int64\n",
              "Variable1_str     object\n",
              "Variable2          int64\n",
              "Variable3          int64\n",
              "Variable4        float64\n",
              "trabajo           object\n",
              "dtype: object"
            ]
          },
          "metadata": {},
          "execution_count": 28
        }
      ]
    },
    {
      "cell_type": "code",
      "source": [
        "## estudiamos las variables para cada grupo de trabajo"
      ],
      "metadata": {
        "id": "RSMosO8fpper"
      },
      "execution_count": null,
      "outputs": []
    },
    {
      "cell_type": "code",
      "source": [
        "df['Variable1'] = df['Variable1'].apply(str)"
      ],
      "metadata": {
        "id": "qrrAbtoQuK4g"
      },
      "execution_count": null,
      "outputs": []
    },
    {
      "cell_type": "code",
      "source": [
        "df_agrupado = df.groupby(['trabajo','Variable1_str']).agg('count').reset_index().rename(columns = {'Nombre':'contador'})[['trabajo','Variable1_str','contador']]"
      ],
      "metadata": {
        "id": "X4QFTlOnv1YD"
      },
      "execution_count": null,
      "outputs": []
    },
    {
      "cell_type": "code",
      "source": [
        "df_agrupado"
      ],
      "metadata": {
        "colab": {
          "base_uri": "https://localhost:8080/",
          "height": 300
        },
        "id": "RXLgEaBJC2yI",
        "outputId": "db25e860-62ca-46a7-9cb0-33412d1ca3c9"
      },
      "execution_count": null,
      "outputs": [
        {
          "output_type": "execute_result",
          "data": {
            "text/plain": [
              "     trabajo      Variable1_str  contador\n",
              "0    Bombero     Muy de acuerdo         1\n",
              "1  Consultor         De Acuerdo         3\n",
              "2  Consultor     Muy Desacuerdo         1\n",
              "3  Consultor     Muy de acuerdo         1\n",
              "4   Escritor     Muy de acuerdo         1\n",
              "5     Médico     Muy de acuerdo         2\n",
              "6     Médico  Muy en desacuerdo         1\n",
              "7     Pintor  Muy en desacuerdo         1"
            ],
            "text/html": [
              "\n",
              "  <div id=\"df-44afc2d6-262b-48c9-ab9d-79a62a01e46d\">\n",
              "    <div class=\"colab-df-container\">\n",
              "      <div>\n",
              "<style scoped>\n",
              "    .dataframe tbody tr th:only-of-type {\n",
              "        vertical-align: middle;\n",
              "    }\n",
              "\n",
              "    .dataframe tbody tr th {\n",
              "        vertical-align: top;\n",
              "    }\n",
              "\n",
              "    .dataframe thead th {\n",
              "        text-align: right;\n",
              "    }\n",
              "</style>\n",
              "<table border=\"1\" class=\"dataframe\">\n",
              "  <thead>\n",
              "    <tr style=\"text-align: right;\">\n",
              "      <th></th>\n",
              "      <th>trabajo</th>\n",
              "      <th>Variable1_str</th>\n",
              "      <th>contador</th>\n",
              "    </tr>\n",
              "  </thead>\n",
              "  <tbody>\n",
              "    <tr>\n",
              "      <th>0</th>\n",
              "      <td>Bombero</td>\n",
              "      <td>Muy de acuerdo</td>\n",
              "      <td>1</td>\n",
              "    </tr>\n",
              "    <tr>\n",
              "      <th>1</th>\n",
              "      <td>Consultor</td>\n",
              "      <td>De Acuerdo</td>\n",
              "      <td>3</td>\n",
              "    </tr>\n",
              "    <tr>\n",
              "      <th>2</th>\n",
              "      <td>Consultor</td>\n",
              "      <td>Muy Desacuerdo</td>\n",
              "      <td>1</td>\n",
              "    </tr>\n",
              "    <tr>\n",
              "      <th>3</th>\n",
              "      <td>Consultor</td>\n",
              "      <td>Muy de acuerdo</td>\n",
              "      <td>1</td>\n",
              "    </tr>\n",
              "    <tr>\n",
              "      <th>4</th>\n",
              "      <td>Escritor</td>\n",
              "      <td>Muy de acuerdo</td>\n",
              "      <td>1</td>\n",
              "    </tr>\n",
              "    <tr>\n",
              "      <th>5</th>\n",
              "      <td>Médico</td>\n",
              "      <td>Muy de acuerdo</td>\n",
              "      <td>2</td>\n",
              "    </tr>\n",
              "    <tr>\n",
              "      <th>6</th>\n",
              "      <td>Médico</td>\n",
              "      <td>Muy en desacuerdo</td>\n",
              "      <td>1</td>\n",
              "    </tr>\n",
              "    <tr>\n",
              "      <th>7</th>\n",
              "      <td>Pintor</td>\n",
              "      <td>Muy en desacuerdo</td>\n",
              "      <td>1</td>\n",
              "    </tr>\n",
              "  </tbody>\n",
              "</table>\n",
              "</div>\n",
              "      <button class=\"colab-df-convert\" onclick=\"convertToInteractive('df-44afc2d6-262b-48c9-ab9d-79a62a01e46d')\"\n",
              "              title=\"Convert this dataframe to an interactive table.\"\n",
              "              style=\"display:none;\">\n",
              "        \n",
              "  <svg xmlns=\"http://www.w3.org/2000/svg\" height=\"24px\"viewBox=\"0 0 24 24\"\n",
              "       width=\"24px\">\n",
              "    <path d=\"M0 0h24v24H0V0z\" fill=\"none\"/>\n",
              "    <path d=\"M18.56 5.44l.94 2.06.94-2.06 2.06-.94-2.06-.94-.94-2.06-.94 2.06-2.06.94zm-11 1L8.5 8.5l.94-2.06 2.06-.94-2.06-.94L8.5 2.5l-.94 2.06-2.06.94zm10 10l.94 2.06.94-2.06 2.06-.94-2.06-.94-.94-2.06-.94 2.06-2.06.94z\"/><path d=\"M17.41 7.96l-1.37-1.37c-.4-.4-.92-.59-1.43-.59-.52 0-1.04.2-1.43.59L10.3 9.45l-7.72 7.72c-.78.78-.78 2.05 0 2.83L4 21.41c.39.39.9.59 1.41.59.51 0 1.02-.2 1.41-.59l7.78-7.78 2.81-2.81c.8-.78.8-2.07 0-2.86zM5.41 20L4 18.59l7.72-7.72 1.47 1.35L5.41 20z\"/>\n",
              "  </svg>\n",
              "      </button>\n",
              "      \n",
              "  <style>\n",
              "    .colab-df-container {\n",
              "      display:flex;\n",
              "      flex-wrap:wrap;\n",
              "      gap: 12px;\n",
              "    }\n",
              "\n",
              "    .colab-df-convert {\n",
              "      background-color: #E8F0FE;\n",
              "      border: none;\n",
              "      border-radius: 50%;\n",
              "      cursor: pointer;\n",
              "      display: none;\n",
              "      fill: #1967D2;\n",
              "      height: 32px;\n",
              "      padding: 0 0 0 0;\n",
              "      width: 32px;\n",
              "    }\n",
              "\n",
              "    .colab-df-convert:hover {\n",
              "      background-color: #E2EBFA;\n",
              "      box-shadow: 0px 1px 2px rgba(60, 64, 67, 0.3), 0px 1px 3px 1px rgba(60, 64, 67, 0.15);\n",
              "      fill: #174EA6;\n",
              "    }\n",
              "\n",
              "    [theme=dark] .colab-df-convert {\n",
              "      background-color: #3B4455;\n",
              "      fill: #D2E3FC;\n",
              "    }\n",
              "\n",
              "    [theme=dark] .colab-df-convert:hover {\n",
              "      background-color: #434B5C;\n",
              "      box-shadow: 0px 1px 3px 1px rgba(0, 0, 0, 0.15);\n",
              "      filter: drop-shadow(0px 1px 2px rgba(0, 0, 0, 0.3));\n",
              "      fill: #FFFFFF;\n",
              "    }\n",
              "  </style>\n",
              "\n",
              "      <script>\n",
              "        const buttonEl =\n",
              "          document.querySelector('#df-44afc2d6-262b-48c9-ab9d-79a62a01e46d button.colab-df-convert');\n",
              "        buttonEl.style.display =\n",
              "          google.colab.kernel.accessAllowed ? 'block' : 'none';\n",
              "\n",
              "        async function convertToInteractive(key) {\n",
              "          const element = document.querySelector('#df-44afc2d6-262b-48c9-ab9d-79a62a01e46d');\n",
              "          const dataTable =\n",
              "            await google.colab.kernel.invokeFunction('convertToInteractive',\n",
              "                                                     [key], {});\n",
              "          if (!dataTable) return;\n",
              "\n",
              "          const docLinkHtml = 'Like what you see? Visit the ' +\n",
              "            '<a target=\"_blank\" href=https://colab.research.google.com/notebooks/data_table.ipynb>data table notebook</a>'\n",
              "            + ' to learn more about interactive tables.';\n",
              "          element.innerHTML = '';\n",
              "          dataTable['output_type'] = 'display_data';\n",
              "          await google.colab.output.renderOutput(dataTable, element);\n",
              "          const docLink = document.createElement('div');\n",
              "          docLink.innerHTML = docLinkHtml;\n",
              "          element.appendChild(docLink);\n",
              "        }\n",
              "      </script>\n",
              "    </div>\n",
              "  </div>\n",
              "  "
            ]
          },
          "metadata": {},
          "execution_count": 105
        }
      ]
    },
    {
      "cell_type": "code",
      "source": [
        "df.columns"
      ],
      "metadata": {
        "colab": {
          "base_uri": "https://localhost:8080/"
        },
        "id": "u8xASwf7V68Y",
        "outputId": "b116ab6d-2359-4ad3-cb75-f72c7024664a"
      },
      "execution_count": null,
      "outputs": [
        {
          "output_type": "execute_result",
          "data": {
            "text/plain": [
              "Index(['Nombre', 'Variable1', 'Variable1_str', 'Variable2', 'Variable3',\n",
              "       'Variable4', 'trabajo', 'trabajo_vs_consultor'],\n",
              "      dtype='object')"
            ]
          },
          "metadata": {},
          "execution_count": 140
        }
      ]
    },
    {
      "cell_type": "code",
      "source": [
        "## podemos hacer bucle para que se estudien todas las variables.\n",
        "\n",
        "## creamos el cuadrante para irlos pintando:\n",
        "fig, axes = plt.subplots(2, 2,figsize = (10,10))\n",
        "\n",
        "df_agrupado_variable1_str = df.groupby(['trabajo','Variable1_str']).agg('count').reset_index().rename(columns = {'Nombre':'contador'})[['trabajo','Variable1_str','contador']]\n",
        "df_agrupado_variable1 = df.groupby(['trabajo','Variable1']).agg('count').reset_index().rename(columns = {'Nombre':'contador'})[['trabajo','Variable1','contador']]\n",
        "df_agrupado_variable2 = df.groupby(['trabajo','Variable2']).agg('count').reset_index().rename(columns = {'Nombre':'contador'})[['trabajo','Variable2','contador']]\n",
        "df_agrupado_variable3 = df.groupby(['trabajo','Variable3']).agg('count').reset_index().rename(columns = {'Nombre':'contador'})[['trabajo','Variable3','contador']]\n",
        "\n",
        "bar1 = sns.barplot(x=\"trabajo\",  y=\"contador\", data=df_agrupado_variable1, hue='Variable1', ax = axes[0,0])\n",
        "bar2 = sns.barplot(x=\"trabajo\",  y=\"contador\", data=df_agrupado_variable1_str, hue='Variable1_str', ax = axes[1,0])\n",
        "bar3 = sns.barplot(x=\"trabajo\",  y=\"contador\", data=df_agrupado_variable2, hue='Variable2', ax = axes[0,1])\n",
        "bar4 = sns.barplot(x=\"trabajo\",  y=\"contador\", data=df_agrupado_variable3, hue='Variable3', ax = axes[1,1])"
      ],
      "metadata": {
        "colab": {
          "base_uri": "https://localhost:8080/",
          "height": 611
        },
        "id": "0tt0ypO6FcMm",
        "outputId": "4fba6a4f-7805-4a7b-be0c-185d047c3ac7"
      },
      "execution_count": null,
      "outputs": [
        {
          "output_type": "display_data",
          "data": {
            "text/plain": [
              "<Figure size 720x720 with 4 Axes>"
            ],
            "image/png": "[encoded data removed]"
          },
          "metadata": {}
        }
      ]
    },
    {
      "cell_type": "markdown",
      "source": [
        "Creamos matriz de correlaciones con Spearman (que es para escalas tipo likert va bien)"
      ],
      "metadata": {
        "id": "is3uaD_2mvcK"
      }
    },
    {
      "cell_type": "code",
      "source": [
        "matriz_correlaciones = df.corr(method = 'spearman')\n",
        "\n",
        "sns.heatmap(matriz_correlaciones,annot = True)"
      ],
      "metadata": {
        "colab": {
          "base_uri": "https://localhost:8080/",
          "height": 286
        },
        "id": "u5UzrNMglC8t",
        "outputId": "a5f02447-0f12-46a3-944b-6363ddf6f712"
      },
      "execution_count": null,
      "outputs": [
        {
          "output_type": "execute_result",
          "data": {
            "text/plain": [
              "<matplotlib.axes._subplots.AxesSubplot at 0x7f62b39e3f90>"
            ]
          },
          "metadata": {},
          "execution_count": 5
        },
        {
          "output_type": "display_data",
          "data": {
            "text/plain": [
              "<Figure size 432x288 with 2 Axes>"
            ],
            "image/png": "[encoded data removed]"
          },
          "metadata": {
            "needs_background": "light"
          }
        }
      ]
    },
    {
      "cell_type": "code",
      "source": [
        "## ahora cogemos y hacemos boxplots por variables para ver cómo evolucionan\n",
        "\n",
        "sns.set_theme(style=\"whitegrid\")\n",
        "ax = sns.boxplot(x=\"trabajo\", y=\"Variable2\", data=df)"
      ],
      "metadata": {
        "colab": {
          "base_uri": "https://localhost:8080/",
          "height": 285
        },
        "id": "Zy4AweclmQJE",
        "outputId": "bc404a51-8aaf-48af-f6cf-bf36943ef755"
      },
      "execution_count": null,
      "outputs": [
        {
          "output_type": "display_data",
          "data": {
            "text/plain": [
              "<Figure size 432x288 with 1 Axes>"
            ],
            "image/png": "[encoded data removed]"
          },
          "metadata": {}
        }
      ]
    },
    {
      "cell_type": "code",
      "source": [
        "### kruskal wallis es el mejor metodo para este caso , wilcoxon lo es también pero para dos grupos  (reemplaza al t student)"
      ],
      "metadata": {
        "id": "h3-6O8a6Uta9"
      },
      "execution_count": null,
      "outputs": []
    },
    {
      "cell_type": "code",
      "source": [
        "## wilcoxon (para dos grupos y es no paramétrica --> mejor para cuando hay pocos datos como es nuestro caso), un ejemplo sería algo así entre dos grupos\n",
        "\n",
        "group1 = [20, 23, 21, 25, 18, 17, 18, 24, 20, 24, 23, 19]\n",
        "group2 = [24, 25, 21, 22, 23, 18, 17, 28, 24, 27, 21, 23]\n",
        "\n",
        "import scipy.stats as stats\n",
        "\n",
        "#perform the Wilcoxon-Signed Rank Test\n",
        "stats.wilcoxon(group1, group2)\n",
        "\n",
        "## y si el p-valor es menor que 0.05 significa que la probabilidsad de que sean independientes esos dos grupos es menor que 5%, con lo cual se acepta\n",
        "## la hipotesis alternativa que es que son dependientes las dos variables"
      ],
      "metadata": {
        "colab": {
          "base_uri": "https://localhost:8080/"
        },
        "id": "JDUO4tMzWdI0",
        "outputId": "d467fba8-6e2f-4281-d135-edcd31890e1f"
      },
      "execution_count": null,
      "outputs": [
        {
          "output_type": "execute_result",
          "data": {
            "text/plain": [
              "WilcoxonResult(statistic=10.5, pvalue=0.044065400736826854)"
            ]
          },
          "metadata": {},
          "execution_count": 1
        }
      ]
    },
    {
      "cell_type": "code",
      "source": [
        "## krsukal sería para mas de dos grupos , equivale al ANOVA de una vía cuando no hay normalidad. La interpretación del p valor es análoga \n",
        "## a wilcoxon, ve si medianas son iguales entre grupos (son independientes) o si hay diferencia significativa si p-valor < 0.05\n",
        "\n",
        "grupo1 = [7, 14, 14, 13, 12, 9, 6, 14, 12, 8]\n",
        "grupo2 = [15, 17, 13, 15, 15, 13, 9, 12, 10, 8]\n",
        "grupo3 = [6, 8, 8, 9, 5, 14, 13, 8, 10, 9]\n",
        "\n",
        "# realizar la prueba de Kruskal-Wallis \n",
        "stats.kruskal (grupo1, grupo2, grupo3)"
      ],
      "metadata": {
        "colab": {
          "base_uri": "https://localhost:8080/"
        },
        "id": "fR0bKbd1YFvs",
        "outputId": "e9c17ab8-5892-42e3-dba6-7d29902a73f4"
      },
      "execution_count": null,
      "outputs": [
        {
          "output_type": "execute_result",
          "data": {
            "text/plain": [
              "KruskalResult(statistic=6.287801578353988, pvalue=0.043114289703508814)"
            ]
          },
          "metadata": {},
          "execution_count": 2
        }
      ]
    },
    {
      "cell_type": "code",
      "source": [
        ""
      ],
      "metadata": {
        "id": "vrvchz88XPlU"
      },
      "execution_count": null,
      "outputs": []
    },
    {
      "cell_type": "code",
      "source": [
        ""
      ],
      "metadata": {
        "id": "saptCaHPaf7B"
      },
      "execution_count": null,
      "outputs": []
    },
    {
      "cell_type": "code",
      "source": [
        ""
      ],
      "metadata": {
        "id": "UbwsmrSJaf9S"
      },
      "execution_count": null,
      "outputs": []
    },
    {
      "cell_type": "code",
      "source": [
        ""
      ],
      "metadata": {
        "id": "bEeRuA4faf_j"
      },
      "execution_count": null,
      "outputs": []
    },
    {
      "cell_type": "code",
      "source": [
        ""
      ],
      "metadata": {
        "id": "HVdJVIiXagBw"
      },
      "execution_count": null,
      "outputs": []
    },
    {
      "cell_type": "code",
      "source": [
        ""
      ],
      "metadata": {
        "id": "tIjhjPeeagEE"
      },
      "execution_count": null,
      "outputs": []
    },
    {
      "cell_type": "code",
      "source": [
        ""
      ],
      "metadata": {
        "id": "qNYYixnfagGK"
      },
      "execution_count": null,
      "outputs": []
    },
    {
      "cell_type": "code",
      "source": [
        "### Comparación de variables independencia - estudio más concreto entre las que queramos\n",
        "\n",
        "def test_independencia_cualitativas(df,cualitativa1,cualitativa2,nivel_significancia = 0.05):\n",
        "        \"\"\"\n",
        "        Test de independencia entredos variables cualitativas.\n",
        "        Primero se hará una tabla de contingencia para posteriormente hacer el estudio con la chi2\n",
        "        :param df: \n",
        "        :param cualitativa1: \n",
        "        :param cualitativa2: \n",
        "        :param nivel_significancia: \n",
        "        :return: \n",
        "        \"\"\"\n",
        "        independientes=False\n",
        "        cont_freq = pd.crosstab(index = df[cualitativa1],columns = df[cualitativa2],margins = True).apply(lambda x: x/len(df) *100,axis=1)\n",
        "        p_valor = stats.chi2_contingency(cont_freq)[1]\n",
        "        if p_valor >= nivel_significancia:\n",
        "            mensaje = f\"el p-valor tiene un valor de {p_valor}, que es mayor que el nivel de significancia y por tanto se acepta la hipótesis nula de que no están relacionadas las variables\"\n",
        "            independientes = True\n",
        "        else:\n",
        "            mensaje = f\"el p-valor tiene un valor de {p_valor}, que es menor que el nivel de significancia y por tanto se rechaza la hipótesis nula de que no están relacionadas las variables y se acepta la alternativa de que sí están relacionadas\""
      ],
      "metadata": {
        "id": "7YOVtLn3p1sh"
      },
      "execution_count": null,
      "outputs": []
    },
    {
      "cell_type": "code",
      "source": [
        "def test_independencia_cualitativa_cuantitativa(cls,df,cualitativa,cuantitativa,nivel_significancia = 0.05):\n",
        "        \"\"\"\n",
        "        Test de independencia entre una variable cualitativa y otra cuantitativa.\n",
        "        Primero de todo comprobaremos para realizar el ANOVA que la variable cuantitativa sigue una distribución Normal\n",
        "        con el test de Shapiro, en caso de ser normal, estudiamos con ANOVA, en caso de no serlo, estudiamos con Kruskal Wallis.\n",
        "        puesto que es un estudio no paramétrico, luego no hay que asumir hipótesis en las distribuciones.\n",
        "        :param df: \n",
        "        :param cualitativa: \n",
        "        :param cuantitativa: \n",
        "        :param nivel_significancia: \n",
        "        :return: \n",
        "        \"\"\"\n",
        "        independientes=False\n",
        "        if stats.shapiro(df[cuantitativa])[1] >= 0.05:\n",
        "            p_valor = ols(formula=cuantitativa + \" ~ C(\" + cualitativa + \")\", data=df).fit().f_pvalue\n",
        "            if p_valor > nivel_significancia:\n",
        "                mensaje = f\"el p-valor tiene un valor de {p_valor}, que es mayor que el nivel de significancia y por tanto se acepta la hipótesis nula de que no están relacionadas las variables\"\n",
        "                independientes=True\n",
        "            else:\n",
        "                mensaje = f\"el p-valor tiene un valor de {p_valor}, que es menor que el nivel de significancia y por tanto se rechaza la hipótesis nula de que no están relacionadas las variables y se acepta la alternativa de que sí están relacionadas\"\n",
        "        else:\n",
        "            diccionario_listas = {}\n",
        "            for i in (list(set(df[cualitativa]))):\n",
        "                lista = list(df[df[cualitativa]==i][cuantitativa])\n",
        "                diccionario_listas.update({i : lista})\n",
        "\n",
        "            lista_def = list(diccionario_listas.values())\n",
        "            if len(lista_def) == 2:\n",
        "                p_valor = stats.kruskal(lista_def[0],lista_def[1])[1]\n",
        "            elif len(lista_def) == 3:\n",
        "                p_valor = stats.kruskal(lista_def[0],lista_def[1],lista_def[2])[1]\n",
        "            elif len(lista_def) == 4:\n",
        "                p_valor = stats.kruskal(lista_def[0],lista_def[1],lista_def[2],lista_def[3])[1]\n",
        "            elif len(lista_def) == 5:\n",
        "                p_valor = stats.kruskal(lista_def[0],lista_def[1],lista_def[2],lista_def[3],lista_def[4])[1]\n",
        "            elif len(lista_def) == 6:\n",
        "                p_valor = stats.kruskal(lista_def[0],lista_def[1],lista_def[2],lista_def[3],lista_def[4],lista_def[5])[1]\n",
        "            else:\n",
        "                mensaje = \"demasiados grupos, mirar función\"\n",
        "\n",
        "            if p_valor > nivel_significancia:\n",
        "                mensaje = f\"el p-valor tiene un valor de {p_valor}, que es mayor que el nivel de significancia y por tanto se acepta la hipótesis nula de que no están relacionadas las variables\"\n",
        "                independientes=True\n",
        "            else:\n",
        "                mensaje = f\"el p-valor tiene un valor de {p_valor}, que es menor que el nivel de significancia y por tanto se rechaza la hipótesis nula de que no están relacionadas las variables y se acepta la alternativa de que sí están relacionadas\"\n",
        "        return independientes, p_valor, mensaje"
      ],
      "metadata": {
        "id": "C1ohLHhHqvXJ"
      },
      "execution_count": null,
      "outputs": []
    },
    {
      "cell_type": "code",
      "source": [
        "def test_independencia_cuantitativas(df,cuantitativa1,cuantitativa2,nivel_significancia = 0.05):\n",
        "        \"\"\"\n",
        "        Test de independencia entre dos variables cuantitativas, Aplicaremos pearson y spearman,\n",
        "        en caso de que por pearson no haya correlación, puede que sea por no haberla o por ser relación no lineal\n",
        "        con lo cual metemos el coeficiente de Spearman para ver si están relacionadas mediante correlación no lineal.\n",
        "        !!!!!!!!!!!!!!\n",
        "        :param df: \n",
        "        :param cuantitativa1: \n",
        "        :param cuantitativa2: \n",
        "        :param nivel_significancia: \n",
        "        :return: \n",
        "        \"\"\"\n",
        "        independientes=False\n",
        "        corr,p_valor = stats.pearsonr(df[cuantitativa1],df[cuantitativa2])\n",
        "        if p_valor >= nivel_significancia:\n",
        "            mensaje = f\"el p-valor para Pearson tiene un valor de {p_valor}, que es mayor que el nivel de significancia y por tanto se acepta la hipótesis nula de que no están relacionadas las variables, no osbtante se comprobará también por Spearman por si acaso hay relación no lineal. Además la correlación de Pearson es de {corr}\"\n",
        "            corr,p_valor = stats.spearmanr(df[cuantitativa1],df[cuantitativa2])\n",
        "            if p_valor >= nivel_significancia:\n",
        "                mensaje = f\" {mensaje}. El p-valor para Spearman tiene un valor de {p_valor}, que es mayor que el nivel de significancia y por tanto se acepta la hipótesis nula de que no están relacionadas las variables. Además la correlación de Spearman es de {corr}\"\n",
        "                independientes=True\n",
        "            else:\n",
        "                mensaje = f\"el p-valor de Spearman tiene un valor de {p_valor}, que es menor que el nivel de significancia y por tanto se rechaza la hipótesis nula de que no están relacionadas las variables y se acepta que sí están relacionadas, aunque no linealmente puesto que Pearson no estaba correlacionado. Además la correlación de Spearman es de {correlacion}\"\n",
        "        else:\n",
        "            mensaje = f\"el p-valor tiene un valor de {p_valor}, que es menor que el nivel de significancia y por tanto se rechaza la hipótesis nula de que no están relacionadas las variables y se acepta que sí están relacionadas. Además la correlación de Pearson es de {correlacion}\"\n",
        "\n",
        "        return independientes, p_valor, mensaje"
      ],
      "metadata": {
        "id": "ofTiOzjOp6Ex"
      },
      "execution_count": null,
      "outputs": []
    }
  ]
}