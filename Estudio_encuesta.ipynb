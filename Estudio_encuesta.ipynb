{
  "nbformat": 4,
  "nbformat_minor": 0,
  "metadata": {
    "colab": {
      "name": "Estudio_encuesta.ipynb",
      "provenance": [],
      "collapsed_sections": []
    },
    "kernelspec": {
      "name": "python3",
      "display_name": "Python 3"
    },
    "language_info": {
      "name": "python"
    }
  },
  "cells": [
    {
      "cell_type": "markdown",
      "source": [
        "## Importamos librerías"
      ],
      "metadata": {
        "id": "qRYbQ8KjjffG"
      }
    },
    {
      "cell_type": "code",
      "source": [
        "import pandas as pd\n",
        "import numpy as np\n",
        "import seaborn as sns"
      ],
      "metadata": {
        "id": "eqpbLHBbjjy2"
      },
      "execution_count": 4,
      "outputs": []
    },
    {
      "cell_type": "markdown",
      "source": [
        "Vamos a hacer un estudio de la encuesta esta"
      ],
      "metadata": {
        "id": "x1VEtifXi4xT"
      }
    },
    {
      "cell_type": "code",
      "execution_count": 18,
      "metadata": {
        "id": "XZbXd7BAi4R9"
      },
      "outputs": [],
      "source": [
        "### cogemos el dataframe (habrá que leerlo de algún sitio), mientras tanto me lo invento\n",
        "lst1 = [\"Jaime\",\"Raquel\",\"Josema\",\"Marta\",\"Laura\",\"Cristina\",\"Gonzalo\",\"Elena\",\"Javi\",\"Dani\",\"Ruben\"]\n",
        "lst2 = [1,4,5,7,7,5,6,2,2,4,4]\n",
        "lst3 = [2,3,4,5,6,7,7,7,5,5,5]\n",
        "lst4 = [2,3,1,2,3,4,4,4,6,6,6]\n",
        "lst5 = [3,2,4,5,7,9,9,9,np.nan,6,6]\n",
        "\n",
        "df = pd.DataFrame(list(zip(lst1,lst2,lst3,lst4,lst5)), columns = ['Nombre','Variable1','Variable2','Variable3','Variable4'])\n",
        "\n"
      ]
    },
    {
      "cell_type": "markdown",
      "source": [
        "Comprobamos la calidad de los datos"
      ],
      "metadata": {
        "id": "6Db3gvS0m2tN"
      }
    },
    {
      "cell_type": "code",
      "source": [
        "## vemos gráficamente si hay algún nulo\n",
        "\n",
        "sns.heatmap(df.isna(),vmin = 0,vmax = 1)"
      ],
      "metadata": {
        "colab": {
          "base_uri": "https://localhost:8080/",
          "height": 286
        },
        "id": "CUZtP6CSm5Pm",
        "outputId": "6bfaedf2-fa18-48e9-8ad3-ac389367f040"
      },
      "execution_count": 19,
      "outputs": [
        {
          "output_type": "execute_result",
          "data": {
            "text/plain": [
              "<matplotlib.axes._subplots.AxesSubplot at 0x7f0693965c50>"
            ]
          },
          "metadata": {},
          "execution_count": 19
        },
        {
          "output_type": "display_data",
          "data": {
            "text/plain": [
              "<Figure size 432x288 with 2 Axes>"
            ],
            "image/png": "[encoded data removed]"
          },
          "metadata": {
            "needs_background": "light"
          }
        }
      ]
    },
    {
      "cell_type": "code",
      "source": [
        "## tambien podemos hacer los siguiente:\n",
        "\n",
        "## donde se ve el número de nulos que hay por variable\n",
        "\n",
        "df.isna().sum()"
      ],
      "metadata": {
        "colab": {
          "base_uri": "https://localhost:8080/"
        },
        "id": "C1Wk0liaoPG1",
        "outputId": "3bef0f1f-e086-4b9c-912f-6613667dace7"
      },
      "execution_count": 20,
      "outputs": [
        {
          "output_type": "execute_result",
          "data": {
            "text/plain": [
              "Nombre       0\n",
              "Variable1    0\n",
              "Variable2    0\n",
              "Variable3    0\n",
              "Variable4    1\n",
              "dtype: int64"
            ]
          },
          "metadata": {},
          "execution_count": 20
        }
      ]
    },
    {
      "cell_type": "markdown",
      "source": [
        "Creamos matriz de correlaciones con Spearman (que es para escalas tipo likert va bien)"
      ],
      "metadata": {
        "id": "is3uaD_2mvcK"
      }
    },
    {
      "cell_type": "code",
      "source": [
        "matriz_correlaciones = df.corr(method = 'spearman')\n",
        "\n",
        "sns.heatmap(matriz_correlaciones,annot = True)"
      ],
      "metadata": {
        "colab": {
          "base_uri": "https://localhost:8080/",
          "height": 286
        },
        "id": "u5UzrNMglC8t",
        "outputId": "8f12ba4f-9a2f-42ba-9913-3f9ad18a8c50"
      },
      "execution_count": 13,
      "outputs": [
        {
          "output_type": "execute_result",
          "data": {
            "text/plain": [
              "<matplotlib.axes._subplots.AxesSubplot at 0x7f0693e08f50>"
            ]
          },
          "metadata": {},
          "execution_count": 13
        },
        {
          "output_type": "display_data",
          "data": {
            "text/plain": [
              "<Figure size 432x288 with 2 Axes>"
            ],
            "image/png": "[encoded data removed]"
          },
          "metadata": {
            "needs_background": "light"
          }
        }
      ]
    },
    {
      "cell_type": "code",
      "source": [
        "## ahora cogemos y hacemos boxplots por variables para ver cómo evolucionan\n",
        "\n",
        "sns.set_theme(style=\"whitegrid\")\n",
        "ax = sns.boxplot(x=\"Variable1\", y=\"Variable2\", data=df)"
      ],
      "metadata": {
        "colab": {
          "base_uri": "https://localhost:8080/",
          "height": 285
        },
        "id": "Zy4AweclmQJE",
        "outputId": "bca00f4e-50c2-4757-b17b-325eba5c8f63"
      },
      "execution_count": 23,
      "outputs": [
        {
          "output_type": "display_data",
          "data": {
            "text/plain": [
              "<Figure size 432x288 with 1 Axes>"
            ],
            "image/png": "[encoded data removed]"
          },
          "metadata": {}
        }
      ]
    },
    {
      "cell_type": "code",
      "source": [
        ""
      ],
      "metadata": {
        "id": "7YOVtLn3p1sh"
      },
      "execution_count": null,
      "outputs": []
    }
  ]
}