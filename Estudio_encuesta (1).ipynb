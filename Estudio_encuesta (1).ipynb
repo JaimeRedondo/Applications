{
  "nbformat": 4,
  "nbformat_minor": 0,
  "metadata": {
    "colab": {
      "name": "Estudio_encuesta.ipynb",
      "provenance": [],
      "collapsed_sections": []
    },
    "kernelspec": {
      "name": "python3",
      "display_name": "Python 3"
    },
    "language_info": {
      "name": "python"
    }
  },
  "cells": [
    {
      "cell_type": "markdown",
      "source": [
        "## Importamos librerías"
      ],
      "metadata": {
        "id": "qRYbQ8KjjffG"
      }
    },
    {
      "cell_type": "code",
      "source": [
        "import pandas as pd\n",
        "import numpy as np\n",
        "import seaborn as sns\n",
        "import matplotlib.pyplot as plt\n",
        "\n",
        "import statsmodels.api as sm\n",
        "from statsmodels.formula.api import ols\n",
        "from scipy import stats"
      ],
      "metadata": {
        "colab": {
          "base_uri": "https://localhost:8080/"
        },
        "id": "eqpbLHBbjjy2",
        "outputId": "5e10a094-97b2-4cf6-8a22-5ed36c035cd0"
      },
      "execution_count": 1,
      "outputs": [
        {
          "output_type": "stream",
          "name": "stderr",
          "text": [
            "/usr/local/lib/python3.7/dist-packages/statsmodels/tools/_testing.py:19: FutureWarning: pandas.util.testing is deprecated. Use the functions in the public API at pandas.testing instead.\n",
            "  import pandas.util.testing as tm\n"
          ]
        }
      ]
    },
    {
      "cell_type": "markdown",
      "source": [
        "Vamos a hacer un estudio de la encuesta esta"
      ],
      "metadata": {
        "id": "x1VEtifXi4xT"
      }
    },
    {
      "cell_type": "code",
      "execution_count": 2,
      "metadata": {
        "id": "XZbXd7BAi4R9"
      },
      "outputs": [],
      "source": [
        "### cogemos el dataframe (habrá que leerlo de algún sitio), mientras tanto me lo invento\n",
        "lst1 = [\"Jaime\",\"Raquel\",\"Josema\",\"Marta\",\"Laura\",\"Cristina\",\"Gonzalo\",\"Elena\",\"Javi\",\"Dani\",\"Ruben\"]\n",
        "lst2 = [1,4,5,7,7,5,6,2,2,4,4]\n",
        "lst3 = [2,3,4,5,6,7,7,7,5,5,5]\n",
        "lst4 = [2,3,1,2,3,4,4,4,6,6,6]\n",
        "lst5 = [3,2,4,5,7,9,9,9,np.nan,6,6]\n",
        "\n",
        "df = pd.DataFrame(list(zip(lst1,lst2,lst3,lst4,lst5)), columns = ['Nombre','Variable1','Variable2','Variable3','Variable4'])\n",
        "\n"
      ]
    },
    {
      "cell_type": "markdown",
      "source": [
        "Comprobamos la calidad de los datos"
      ],
      "metadata": {
        "id": "6Db3gvS0m2tN"
      }
    },
    {
      "cell_type": "code",
      "source": [
        "## vemos gráficamente si hay algún nulo\n",
        "\n",
        "sns.heatmap(df.isna(),vmin = 0,vmax = 1)"
      ],
      "metadata": {
        "colab": {
          "base_uri": "https://localhost:8080/",
          "height": 286
        },
        "id": "CUZtP6CSm5Pm",
        "outputId": "704a45cc-a9ea-49c7-9779-7b45707a9ddd"
      },
      "execution_count": 3,
      "outputs": [
        {
          "output_type": "execute_result",
          "data": {
            "text/plain": [
              "<matplotlib.axes._subplots.AxesSubplot at 0x7f62c66e4350>"
            ]
          },
          "metadata": {},
          "execution_count": 3
        },
        {
          "output_type": "display_data",
          "data": {
            "text/plain": [
              "<Figure size 432x288 with 2 Axes>"
            ],
            "image/png": "[encoded data removed]"
          },
          "metadata": {
            "needs_background": "light"
          }
        }
      ]
    },
    {
      "cell_type": "code",
      "source": [
        "## tambien podemos hacer los siguiente:\n",
        "\n",
        "## donde se ve el número de nulos que hay por variable\n",
        "\n",
        "df.isna().sum()"
      ],
      "metadata": {
        "colab": {
          "base_uri": "https://localhost:8080/"
        },
        "id": "C1Wk0liaoPG1",
        "outputId": "34815e9c-65ea-476e-ce0c-c1603ee688d2"
      },
      "execution_count": 4,
      "outputs": [
        {
          "output_type": "execute_result",
          "data": {
            "text/plain": [
              "Nombre       0\n",
              "Variable1    0\n",
              "Variable2    0\n",
              "Variable3    0\n",
              "Variable4    1\n",
              "dtype: int64"
            ]
          },
          "metadata": {},
          "execution_count": 4
        }
      ]
    },
    {
      "cell_type": "markdown",
      "source": [
        "Creamos matriz de correlaciones con Spearman (que es para escalas tipo likert va bien)"
      ],
      "metadata": {
        "id": "is3uaD_2mvcK"
      }
    },
    {
      "cell_type": "code",
      "source": [
        "matriz_correlaciones = df.corr(method = 'spearman')\n",
        "\n",
        "sns.heatmap(matriz_correlaciones,annot = True)"
      ],
      "metadata": {
        "colab": {
          "base_uri": "https://localhost:8080/",
          "height": 286
        },
        "id": "u5UzrNMglC8t",
        "outputId": "a5f02447-0f12-46a3-944b-6363ddf6f712"
      },
      "execution_count": 5,
      "outputs": [
        {
          "output_type": "execute_result",
          "data": {
            "text/plain": [
              "<matplotlib.axes._subplots.AxesSubplot at 0x7f62b39e3f90>"
            ]
          },
          "metadata": {},
          "execution_count": 5
        },
        {
          "output_type": "display_data",
          "data": {
            "text/plain": [
              "<Figure size 432x288 with 2 Axes>"
            ],
            "image/png": "[encoded data removed]"
          },
          "metadata": {
            "needs_background": "light"
          }
        }
      ]
    },
    {
      "cell_type": "code",
      "source": [
        "## ahora cogemos y hacemos boxplots por variables para ver cómo evolucionan\n",
        "\n",
        "sns.set_theme(style=\"whitegrid\")\n",
        "ax = sns.boxplot(x=\"Variable1\", y=\"Variable2\", data=df)"
      ],
      "metadata": {
        "colab": {
          "base_uri": "https://localhost:8080/",
          "height": 285
        },
        "id": "Zy4AweclmQJE",
        "outputId": "c5428b77-b1a8-4483-8290-252ddf56ce8a"
      },
      "execution_count": 6,
      "outputs": [
        {
          "output_type": "display_data",
          "data": {
            "text/plain": [
              "<Figure size 432x288 with 1 Axes>"
            ],
            "image/png": "[encoded data removed]"
          },
          "metadata": {}
        }
      ]
    },
    {
      "cell_type": "code",
      "source": [
        "### Comparación de variables independencia - estudio más concreto entre las que queramos\n",
        "\n",
        "def test_independencia_cualitativas(df,cualitativa1,cualitativa2,nivel_significancia = 0.05):\n",
        "        \"\"\"\n",
        "        Test de independencia entredos variables cualitativas.\n",
        "        Primero se hará una tabla de contingencia para posteriormente hacer el estudio con la chi2\n",
        "        :param df: \n",
        "        :param cualitativa1: \n",
        "        :param cualitativa2: \n",
        "        :param nivel_significancia: \n",
        "        :return: \n",
        "        \"\"\"\n",
        "        independientes=False\n",
        "        cont_freq = pd.crosstab(index = df[cualitativa1],columns = df[cualitativa2],margins = True).apply(lambda x: x/len(df) *100,axis=1)\n",
        "        p_valor = stats.chi2_contingency(cont_freq)[1]\n",
        "        if p_valor >= nivel_significancia:\n",
        "            mensaje = f\"el p-valor tiene un valor de {p_valor}, que es mayor que el nivel de significancia y por tanto se acepta la hipótesis nula de que no están relacionadas las variables\"\n",
        "            independientes = True\n",
        "        else:\n",
        "            mensaje = f\"el p-valor tiene un valor de {p_valor}, que es menor que el nivel de significancia y por tanto se rechaza la hipótesis nula de que no están relacionadas las variables y se acepta la alternativa de que sí están relacionadas\""
      ],
      "metadata": {
        "id": "7YOVtLn3p1sh"
      },
      "execution_count": 7,
      "outputs": []
    },
    {
      "cell_type": "code",
      "source": [
        "def test_independencia_cuantitativas(df,cuantitativa1,cuantitativa2,nivel_significancia = 0.05):\n",
        "        \"\"\"\n",
        "        Test de independencia entre dos variables cuantitativas, Aplicaremos pearson y spearman,\n",
        "        en caso de que por pearson no haya correlación, puede que sea por no haberla o por ser relación no lineal\n",
        "        con lo cual metemos el coeficiente de Spearman para ver si están relacionadas mediante correlación no lineal.\n",
        "        !!!!!!!!!!!!!!\n",
        "        :param df: \n",
        "        :param cuantitativa1: \n",
        "        :param cuantitativa2: \n",
        "        :param nivel_significancia: \n",
        "        :return: \n",
        "        \"\"\"\n",
        "        independientes=False\n",
        "        corr,p_valor = stats.pearsonr(df[cuantitativa1],df[cuantitativa2])\n",
        "        if p_valor >= nivel_significancia:\n",
        "            mensaje = f\"el p-valor para Pearson tiene un valor de {p_valor}, que es mayor que el nivel de significancia y por tanto se acepta la hipótesis nula de que no están relacionadas las variables, no osbtante se comprobará también por Spearman por si acaso hay relación no lineal. Además la correlación de Pearson es de {corr}\"\n",
        "            corr,p_valor = stats.spearmanr(df[cuantitativa1],df[cuantitativa2])\n",
        "            if p_valor >= nivel_significancia:\n",
        "                mensaje = f\" {mensaje}. El p-valor para Spearman tiene un valor de {p_valor}, que es mayor que el nivel de significancia y por tanto se acepta la hipótesis nula de que no están relacionadas las variables. Además la correlación de Spearman es de {corr}\"\n",
        "                independientes=True\n",
        "            else:\n",
        "                mensaje = f\"el p-valor de Spearman tiene un valor de {p_valor}, que es menor que el nivel de significancia y por tanto se rechaza la hipótesis nula de que no están relacionadas las variables y se acepta que sí están relacionadas, aunque no linealmente puesto que Pearson no estaba correlacionado. Además la correlación de Spearman es de {correlacion}\"\n",
        "        else:\n",
        "            mensaje = f\"el p-valor tiene un valor de {p_valor}, que es menor que el nivel de significancia y por tanto se rechaza la hipótesis nula de que no están relacionadas las variables y se acepta que sí están relacionadas. Además la correlación de Pearson es de {correlacion}\"\n",
        "\n",
        "        return independientes, p_valor, mensaje"
      ],
      "metadata": {
        "id": "ofTiOzjOp6Ex"
      },
      "execution_count": 8,
      "outputs": []
    },
    {
      "cell_type": "code",
      "source": [
        "def test_independencia_cualitativa_cuantitativa(cls,df,cualitativa,cuantitativa,nivel_significancia = 0.05):\n",
        "        \"\"\"\n",
        "        Test de independencia entre una variable cualitativa y otra cuantitativa.\n",
        "        Primero de todo comprobaremos para realizar el ANOVA que la variable cuantitativa sigue una distribución Normal\n",
        "        con el test de Shapiro, en caso de ser normal, estudiamos con ANOVA, en caso de no serlo, estudiamos con Kruskal Wallis.\n",
        "        puesto que es un estudio no paramétrico, luego no hay que asumir hipótesis en las distribuciones.\n",
        "        :param df: \n",
        "        :param cualitativa: \n",
        "        :param cuantitativa: \n",
        "        :param nivel_significancia: \n",
        "        :return: \n",
        "        \"\"\"\n",
        "        independientes=False\n",
        "        if stats.shapiro(df[cuantitativa])[1] >= 0.05:\n",
        "            p_valor = ols(formula=cuantitativa + \" ~ C(\" + cualitativa + \")\", data=df).fit().f_pvalue\n",
        "            if p_valor > nivel_significancia:\n",
        "                mensaje = f\"el p-valor tiene un valor de {p_valor}, que es mayor que el nivel de significancia y por tanto se acepta la hipótesis nula de que no están relacionadas las variables\"\n",
        "                independientes=True\n",
        "            else:\n",
        "                mensaje = f\"el p-valor tiene un valor de {p_valor}, que es menor que el nivel de significancia y por tanto se rechaza la hipótesis nula de que no están relacionadas las variables y se acepta la alternativa de que sí están relacionadas\"\n",
        "        else:\n",
        "            diccionario_listas = {}\n",
        "            for i in (list(set(df[cualitativa]))):\n",
        "                lista = list(df[df[cualitativa]==i][cuantitativa])\n",
        "                diccionario_listas.update({i : lista})\n",
        "\n",
        "            lista_def = list(diccionario_listas.values())\n",
        "            if len(lista_def) == 2:\n",
        "                p_valor = stats.kruskal(lista_def[0],lista_def[1])[1]\n",
        "            elif len(lista_def) == 3:\n",
        "                p_valor = stats.kruskal(lista_def[0],lista_def[1],lista_def[2])[1]\n",
        "            elif len(lista_def) == 4:\n",
        "                p_valor = stats.kruskal(lista_def[0],lista_def[1],lista_def[2],lista_def[3])[1]\n",
        "            elif len(lista_def) == 5:\n",
        "                p_valor = stats.kruskal(lista_def[0],lista_def[1],lista_def[2],lista_def[3],lista_def[4])[1]\n",
        "            elif len(lista_def) == 6:\n",
        "                p_valor = stats.kruskal(lista_def[0],lista_def[1],lista_def[2],lista_def[3],lista_def[4],lista_def[5])[1]\n",
        "            else:\n",
        "                mensaje = \"demasiados grupos, mirar función\"\n",
        "\n",
        "            if p_valor > nivel_significancia:\n",
        "                mensaje = f\"el p-valor tiene un valor de {p_valor}, que es mayor que el nivel de significancia y por tanto se acepta la hipótesis nula de que no están relacionadas las variables\"\n",
        "                independientes=True\n",
        "            else:\n",
        "                mensaje = f\"el p-valor tiene un valor de {p_valor}, que es menor que el nivel de significancia y por tanto se rechaza la hipótesis nula de que no están relacionadas las variables y se acepta la alternativa de que sí están relacionadas\"\n",
        "        return independientes, p_valor, mensaje"
      ],
      "metadata": {
        "id": "C1ohLHhHqvXJ"
      },
      "execution_count": 9,
      "outputs": []
    },
    {
      "cell_type": "code",
      "source": [
        ""
      ],
      "metadata": {
        "id": "3NEs4noys_Me"
      },
      "execution_count": 9,
      "outputs": []
    }
  ]
}